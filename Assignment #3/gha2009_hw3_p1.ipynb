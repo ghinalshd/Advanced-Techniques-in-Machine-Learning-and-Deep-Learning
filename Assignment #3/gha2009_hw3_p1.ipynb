{
  "nbformat": 4,
  "nbformat_minor": 0,
  "metadata": {
    "colab": {
      "provenance": []
    },
    "kernelspec": {
      "name": "python3",
      "display_name": "Python 3"
    },
    "language_info": {
      "name": "python"
    }
  },
  "cells": [
    {
      "cell_type": "markdown",
      "source": [
        "# Problem 1 - Softmax Activation Function"
      ],
      "metadata": {
        "id": "NcDhlfqyBd6m"
      }
    },
    {
      "cell_type": "markdown",
      "source": [
        "## 1.1"
      ],
      "metadata": {
        "id": "-id00ye6CNLB"
      }
    },
    {
      "cell_type": "markdown",
      "source": [
        "**Answer:**\n",
        "\n",
        "- when $i = j$:\n",
        "\n",
        "\\begin{align*}\n",
        "\\frac{\\partial o_i}{\\partial v_i} &= \\frac{\\exp(v_i) \\sum_{j=1}^k \\exp(v_j) - \\exp(v_i)^2}{(\\sum_{j=1}^k \\exp(v_j))^2} \\\\\n",
        "&= \\frac{\\exp(v_i)}{\\sum_{j=1}^k \\exp(v_j)} \\cdot \\left(1 - \\frac{\\exp(v_i)}{\\sum_{j=1}^k \\exp(v_j)}\\right) \\\\\n",
        "&= o_i(1 - o_i)\n",
        "\\end{align*}\n",
        "\n",
        "- when $i \\neq j$:\n",
        "\n",
        "  \\begin{align*}\n",
        "\\frac{\\partial o_i}{\\partial v_j} &= \\frac{0 - \\exp(v_i) \\exp(v_j)}{(\\sum_{l=1}^k \\exp(v_l))^2} \\\\\n",
        "&= -o_io_j\n",
        "\\end{align*}"
      ],
      "metadata": {
        "id": "4kineJbrfcg7"
      }
    },
    {
      "cell_type": "markdown",
      "source": [
        "## 1.2"
      ],
      "metadata": {
        "id": "e1D_yfneCWqL"
      }
    },
    {
      "cell_type": "markdown",
      "source": [
        "**Answer:**\n",
        "\n",
        "- when $j = i$:\n",
        "  \\begin{align*}\n",
        "\\frac{\\partial L}{\\partial v_i} &= -\\sum_{j=1}^k y_j \\frac{1}{o_j} o_j(1 - o_j) \\\\\n",
        "&= - y_i + y_i o_i\n",
        "\\end{align*}\n",
        "\n",
        "- when $j \\neq i$:\n",
        "\\begin{align*}\n",
        "\\frac{\\partial L}{\\partial v_i} &= \\sum_{j \\neq i} y_j \\frac{1}{o_j} o_j o_i \\\\\n",
        "&= y_j o_i\n",
        "\\end{align*}\n",
        "\n",
        "    - $Combining$ $the$ $results$:\n",
        "\n",
        "\\begin{align*}\n",
        "  \\frac{\\partial L}{\\partial v_i} = o_i - y_i\n",
        "\\end{align*}\n"
      ],
      "metadata": {
        "id": "97UqcCzE9RLp"
      }
    }
  ]
}