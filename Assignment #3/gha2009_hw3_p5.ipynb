{
  "cells": [
    {
      "cell_type": "markdown",
      "metadata": {
        "id": "NcDhlfqyBd6m"
      },
      "source": [
        "# Problem 5 - Learning Rate, Batch Size, FashionMNIST"
      ]
    },
    {
      "cell_type": "markdown",
      "metadata": {
        "id": "TpMHZDOECjD3"
      },
      "source": [
        "## 5.1"
      ]
    },
    {
      "cell_type": "code",
      "source": [
        "# import the necessary packages\n",
        "from sklearn.preprocessing import LabelBinarizer\n",
        "from sklearn.metrics import classification_report\n",
        "from tensorflow.keras.preprocessing.image import ImageDataGenerator\n",
        "from tensorflow.keras.optimizers import SGD\n",
        "from keras.models import Sequential\n",
        "from tensorflow.keras.layers import Conv2D, AveragePooling2D, Flatten, Dense\n",
        "from tensorflow.keras.datasets import fashion_mnist\n",
        "import tensorflow as tf\n",
        "import matplotlib.pyplot as plt\n",
        "import numpy as np\n",
        "import argparse\n",
        "import cv2\n",
        "import sys"
      ],
      "metadata": {
        "id": "FiDAsj9DuZW_"
      },
      "execution_count": 35,
      "outputs": []
    },
    {
      "cell_type": "code",
      "source": [
        "# import the necessary packages\n",
        "import os\n",
        "# initialize the list of class label names\n",
        "CLASSES = [\"top\", \"trouser\", \"pullover\", \"dress\", \"coat\",\n",
        "\t\"sandal\", \"shirt\", \"sneaker\", \"bag\", \"ankle boot\"]\n",
        "# define the minimum learning rate, maximum learning rate, batch size,\n",
        "# step size, CLR method, and number of epochs\n",
        "MIN_LR = 1e-10\n",
        "MAX_LR = 1e+1\n",
        "BATCH_SIZE = 64\n",
        "STEP_SIZE = 5\n",
        "CLR_METHOD = \"triangular\"\n",
        "NUM_EPOCHS = 5"
      ],
      "metadata": {
        "id": "zuXEu53RkSCF"
      },
      "execution_count": 36,
      "outputs": []
    },
    {
      "cell_type": "code",
      "execution_count": 37,
      "metadata": {
        "id": "6lJzn7NsE6Yn"
      },
      "outputs": [],
      "source": [
        "def create_lenet_model():\n",
        "  model = Sequential([\n",
        "    Conv2D(6, (5, 5), activation='tanh', input_shape=trainX.shape[1:]),\n",
        "    AveragePooling2D(),\n",
        "    Conv2D(16, (5, 5), activation='tanh'),\n",
        "    AveragePooling2D(),\n",
        "    Conv2D(120, (5, 5), activation='tanh'),\n",
        "    Flatten(),\n",
        "    Dense(84, activation='tanh'),\n",
        "    Dense(10, activation='softmax')\n",
        "    ])\n",
        "  return model"
      ]
    },
    {
      "cell_type": "code",
      "source": [
        "resize_fn = lambda X, y: (tf.image.resize_with_pad(X, resize, resize) if resize else X, y)\n",
        "# load the training and testing data\n",
        "print(\"[INFO] loading Fashion MNIST data...\")\n",
        "((trainX, trainY), (testX, testY)) = fashion_mnist.load_data()\n",
        "\n",
        "trainX = tf.pad(trainX, [[0, 0], [2,2], [2,2]])/255\n",
        "testX = tf.pad(testX, [[0, 0], [2,2], [2,2]])/255\n",
        "\n",
        "trainX = tf.expand_dims(trainX, axis=3, name=None)\n",
        "testX = tf.expand_dims(testX, axis=3, name=None)\n",
        "\n",
        "lb = LabelBinarizer()\n",
        "trainY = lb.fit_transform(trainY)\n",
        "testY = lb.transform(testY)\n",
        "# construct the image generator for data augmentation\n",
        "aug = ImageDataGenerator(width_shift_range=0.1,\n",
        "\theight_shift_range=0.1, horizontal_flip=True,\n",
        "\tfill_mode=\"nearest\")"
      ],
      "metadata": {
        "colab": {
          "base_uri": "https://localhost:8080/"
        },
        "id": "0qSdI--ynDe8",
        "outputId": "3454a8cb-dad0-4888-aa8f-c1db17748005"
      },
      "execution_count": 38,
      "outputs": [
        {
          "output_type": "stream",
          "name": "stdout",
          "text": [
            "[INFO] loading Fashion MNIST data...\n"
          ]
        }
      ]
    },
    {
      "cell_type": "code",
      "source": [
        "# initialize the optimizer and model\n",
        "print(\"[INFO] compiling model...\")\n",
        "opt = SGD(learning_rate = MIN_LR, momentum=0.9)\n",
        "model = create_lenet_model()\n",
        "model.compile(loss=\"categorical_crossentropy\", optimizer=opt,metrics=[\"accuracy\"])"
      ],
      "metadata": {
        "colab": {
          "base_uri": "https://localhost:8080/"
        },
        "id": "_bEzdeTRnjEi",
        "outputId": "25b56ab4-aa89-4223-f821-82743870d24c"
      },
      "execution_count": 39,
      "outputs": [
        {
          "output_type": "stream",
          "name": "stdout",
          "text": [
            "[INFO] compiling model...\n"
          ]
        }
      ]
    },
    {
      "cell_type": "code",
      "source": [
        "# import the necessary packages\n",
        "from tensorflow.keras.callbacks import LambdaCallback\n",
        "from tensorflow.keras import backend as K\n",
        "import matplotlib.pyplot as plt\n",
        "import numpy as np\n",
        "import tempfile\n",
        "\n",
        "class LearningRateFinder:\n",
        "        def __init__(self, model, stopFactor=4, beta=0.98):\n",
        "                # store the model, stop factor, and beta value (for computing\n",
        "                # a smoothed, average loss)\n",
        "                self.model = model\n",
        "                self.stopFactor = stopFactor\n",
        "                self.beta = beta\n",
        "                # initialize our list of learning rates and losses,\n",
        "                # respectively\n",
        "                self.lrs = []\n",
        "                self.losses = []\n",
        "                # initialize our learning rate multiplier, average loss, best\n",
        "                # loss found thus far, current batch number, and weights file\n",
        "                self.lrMult = 1\n",
        "                self.avgLoss = 0\n",
        "                self.bestLoss = 1e9\n",
        "                self.batchNum = 0\n",
        "                self.weightsFile = None\n",
        "\n",
        "        def reset(self):\n",
        "\t\t# re-initialize all variables from our constructor\n",
        "                self.lrs = []\n",
        "                self.losses = []\n",
        "                self.lrMult = 1\n",
        "                self.avgLoss = 0\n",
        "                self.bestLoss = 1e9\n",
        "                self.batchNum = 0\n",
        "                self.weightsFile = None\n",
        "\n",
        "        def is_data_iter(self, data):\n",
        "                # define the set of class types we will check for\n",
        "                iterClasses = [\"NumpyArrayIterator\", \"DirectoryIterator\",\n",
        "                         \"DataFrameIterator\", \"Iterator\", \"Sequence\"]\n",
        "                # return whether our data is an iterator\n",
        "                return data.__class__.__name__ in iterClasses\n",
        "\n",
        "        def on_batch_end(self, batch, logs):\n",
        "                # grab the current learning rate and add log it to the list of\n",
        "                # learning rates that we've tried\n",
        "                lr = K.get_value(self.model.optimizer.lr)\n",
        "                self.lrs.append(lr)\n",
        "                # grab the loss at the end of this batch, increment the total\n",
        "                # number of batches processed, compute the average average\n",
        "                # loss, smooth it, and update the losses list with the\n",
        "                # smoothed value\n",
        "                l = logs[\"loss\"]\n",
        "                self.batchNum += 1\n",
        "                self.avgLoss = (self.beta * self.avgLoss) + ((1 - self.beta) * l)\n",
        "                smooth = self.avgLoss / (1 - (self.beta ** self.batchNum))\n",
        "                self.losses.append(smooth)\n",
        "                # compute the maximum loss stopping factor value\n",
        "                stopLoss = self.stopFactor * self.bestLoss\n",
        "                # check to see whether the loss has grown too large\n",
        "                if self.batchNum > 1 and smooth > stopLoss:\n",
        "                        # stop returning and return from the method\n",
        "                        self.model.stop_training = True\n",
        "                        return\n",
        "                # check to see if the best loss should be updated\n",
        "                if self.batchNum == 1 or smooth < self.bestLoss:\n",
        "                        self.bestLoss = smooth\n",
        "                # increase the learning rate\n",
        "                lr *= self.lrMult\n",
        "                K.set_value(self.model.optimizer.lr, lr)\n",
        "\n",
        "        def find(self, trainData, startLR, endLR, epochs=None,\n",
        "                stepsPerEpoch=None, batchSize=32, sampleSize=2048,\n",
        "                verbose=1):\n",
        "                # reset our class-specific variables\n",
        "                self.reset()\n",
        "                # determine if we are using a data generator or not\n",
        "                useGen = self.is_data_iter(trainData)\n",
        "                # if we're using a generator and the steps per epoch is not\n",
        "                # supplied, raise an error\n",
        "                if useGen and stepsPerEpoch is None:\n",
        "                        msg = \"Using generator without supplying stepsPerEpoch\"\n",
        "                        raise Exception(msg)\n",
        "                # if we're not using a generator then our entire dataset must\n",
        "                # already be in memory\n",
        "                elif not useGen:\n",
        "                        # grab the number of samples in the training data and\n",
        "                        # then derive the number of steps per epoch\n",
        "                        numSamples = len(trainData[0])\n",
        "                        stepsPerEpoch = np.ceil(numSamples / float(batchSize))\n",
        "                # if no number of training epochs are supplied, compute the\n",
        "                # training epochs based on a default sample size\n",
        "                if epochs is None:\n",
        "                        epochs = int(np.ceil(sampleSize / float(stepsPerEpoch)))\n",
        "                # compute the total number of batch updates that will take\n",
        "                # place while we are attempting to find a good starting\n",
        "                # learning rate\n",
        "                numBatchUpdates = epochs * stepsPerEpoch\n",
        "                # derive the learning rate multiplier based on the ending\n",
        "                # learning rate, starting learning rate, and total number of\n",
        "                # batch updates\n",
        "                self.lrMult = (endLR / startLR) ** (1.0 / numBatchUpdates)\n",
        "                # create a temporary file path for the model weights and\n",
        "                # then save the weights (so we can reset the weights when we\n",
        "                # are done)\n",
        "                self.weightsFile = tempfile.mkstemp()[1]\n",
        "                self.model.save_weights(self.weightsFile)\n",
        "                # grab the *original* learning rate (so we can reset it\n",
        "                # later), and then set the *starting* learning rate\n",
        "                origLR = K.get_value(self.model.optimizer.lr)\n",
        "                K.set_value(self.model.optimizer.lr, startLR)\n",
        "                # construct a callback that will be called at the end of each\n",
        "                # batch, enabling us to increase our learning rate as training\n",
        "                # progresses\n",
        "                callback = LambdaCallback(on_batch_end=lambda batch, logs:\n",
        "                        self.on_batch_end(batch, logs))\n",
        "                # check to see if we are using a data iterator\n",
        "                if useGen:\n",
        "                        self.model.fit(\n",
        "                                x=trainData,\n",
        "                                steps_per_epoch=stepsPerEpoch,\n",
        "                                epochs=epochs,\n",
        "                                verbose=verbose,\n",
        "                                callbacks=[callback])\n",
        "                # otherwise, our entire training data is already in memory\n",
        "                else:\n",
        "                        # train our model using Keras' fit method\n",
        "                        self.model.fit(\n",
        "                                x=trainData[0], y=trainData[1],\n",
        "                                batch_size=batchSize,\n",
        "                                epochs=epochs,\n",
        "                                callbacks=[callback],\n",
        "                                verbose=verbose)\n",
        "                # restore the original model weights and learning rate\n",
        "                self.model.load_weights(self.weightsFile)\n",
        "                K.set_value(self.model.optimizer.lr, origLR)\n",
        "\n",
        "        def plot_loss(self, skipBegin=10, skipEnd=10, title=\"\"):\n",
        "                # grab the learning rate and losses values to plot\n",
        "                lrs = self.lrs[skipBegin:-skipEnd]\n",
        "                losses = self.losses[skipBegin:-skipEnd]\n",
        "                # plot the learning rate vs. loss\n",
        "                plt.plot(lrs, losses)\n",
        "                plt.xscale(\"log\")\n",
        "                plt.xlabel(\"Learning Rate (Log Scale)\")\n",
        "                plt.ylabel(\"Loss\")\n",
        "                # if the title is not empty, add it to the plot\n",
        "                if title != \"\":\n",
        "                        plt.title(title)"
      ],
      "metadata": {
        "id": "u0Rk9klZpnun"
      },
      "execution_count": 40,
      "outputs": []
    },
    {
      "cell_type": "code",
      "source": [
        "# initialize the learning rate finder and then train with learning rates ranging from 1e-10 to 1e+1\n",
        "print(\"[INFO] finding learning rate...\")\n",
        "lrf = LearningRateFinder(model)\n",
        "lrf.find(\n",
        "\t\taug.flow(trainX, trainY, batch_size = BATCH_SIZE),\n",
        "\t\t1e-10, 1e+1,\n",
        "\t\tstepsPerEpoch=np.ceil((len(trainX) / float(BATCH_SIZE))), epochs = NUM_EPOCHS,\n",
        "\t\tbatchSize = BATCH_SIZE)\n",
        "# plot the loss for the various learning rates and save the resulting plot to disk\n",
        "lrf.plot_loss()\n",
        "plt.savefig('LRFINDER.png')\n",
        "# gracefully exit the script so we can adjust our learning rates in the config and then train the network for our full set of epochs\n",
        "print(\"[INFO] learning rate finder complete\")\n",
        "print(\"[INFO] examine plot and adjust learning rates before training\")\n",
        "sys.exit(0)"
      ],
      "metadata": {
        "colab": {
          "base_uri": "https://localhost:8080/",
          "height": 822
        },
        "id": "yzFAwYoPqBgG",
        "outputId": "76ba92af-e4ad-4ba5-cb87-fefd93d3c780"
      },
      "execution_count": 41,
      "outputs": [
        {
          "output_type": "stream",
          "name": "stdout",
          "text": [
            "[INFO] finding learning rate...\n",
            "Epoch 1/5\n",
            "938/938 [==============================] - 49s 52ms/step - loss: 2.3166 - accuracy: 0.0489\n",
            "Epoch 2/5\n",
            "938/938 [==============================] - 48s 51ms/step - loss: 2.3173 - accuracy: 0.0492\n",
            "Epoch 3/5\n",
            "938/938 [==============================] - 49s 52ms/step - loss: 2.2931 - accuracy: 0.0899\n",
            "Epoch 4/5\n",
            "938/938 [==============================] - 48s 51ms/step - loss: 1.2071 - accuracy: 0.5742\n",
            "Epoch 5/5\n",
            "938/938 [==============================] - 24s 26ms/step - loss: 7.7273 - accuracy: 0.5402\n",
            "[INFO] learning rate finder complete\n",
            "[INFO] examine plot and adjust learning rates before training\n"
          ]
        },
        {
          "output_type": "error",
          "ename": "SystemExit",
          "evalue": "ignored",
          "traceback": [
            "An exception has occurred, use %tb to see the full traceback.\n",
            "\u001b[0;31mSystemExit\u001b[0m\u001b[0;31m:\u001b[0m 0\n"
          ]
        },
        {
          "output_type": "stream",
          "name": "stderr",
          "text": [
            "/usr/local/lib/python3.10/dist-packages/IPython/core/interactiveshell.py:3561: UserWarning: To exit: use 'exit', 'quit', or Ctrl-D.\n",
            "  warn(\"To exit: use 'exit', 'quit', or Ctrl-D.\", stacklevel=1)\n"
          ]
        },
        {
          "output_type": "display_data",
          "data": {
            "text/plain": [
              "<Figure size 640x480 with 1 Axes>"
            ],
            "image/png": "[encoded data removed]"
          },
          "metadata": {}
        }
      ]
    },
    {
      "cell_type": "markdown",
      "metadata": {
        "id": "GRo9fm0tf-ga"
      },
      "source": [
        "**Answer:**\n",
        "- **lr(min)** should be a value corresponding to the learning rate where the loss reaches its lowest point before the first sharp increase. From the graph, this appears to be somewhere close to 10^-3.\n",
        "- **lr(max)** should be a value slightly before the loss begins its sharp increase. From the graph, this seems to be just around 10^-2, yet certainly less than 1."
      ]
    },
    {
      "cell_type": "markdown",
      "metadata": {
        "id": "YdDLYruzClXn"
      },
      "source": [
        "## 5.2"
      ]
    },
    {
      "cell_type": "code",
      "source": [
        "from tensorflow.keras.callbacks import *\n",
        "from tensorflow.keras import backend as K\n",
        "import numpy as np\n",
        "\n",
        "class CyclicLR(Callback):\n",
        "    def __init__(self, base_lr=0.001, max_lr=0.006, step_size=2000., mode='triangular',\n",
        "                 gamma=1., scale_fn=None, scale_mode='cycle'):\n",
        "        super(CyclicLR, self).__init__()\n",
        "\n",
        "        self.base_lr = base_lr\n",
        "        self.max_lr = max_lr\n",
        "        self.step_size = step_size\n",
        "        self.mode = mode\n",
        "        self.gamma = gamma\n",
        "        if scale_fn == None:\n",
        "            if self.mode == 'triangular':\n",
        "                self.scale_fn = lambda x: 1.\n",
        "                self.scale_mode = 'cycle'\n",
        "            elif self.mode == 'triangular2':\n",
        "                self.scale_fn = lambda x: 1/(2.**(x-1))\n",
        "                self.scale_mode = 'cycle'\n",
        "            elif self.mode == 'exp_range':\n",
        "                self.scale_fn = lambda x: gamma**(x)\n",
        "                self.scale_mode = 'iterations'\n",
        "        else:\n",
        "            self.scale_fn = scale_fn\n",
        "            self.scale_mode = scale_mode\n",
        "        self.clr_iterations = 0.\n",
        "        self.trn_iterations = 0.\n",
        "        self.history = {}\n",
        "\n",
        "        self._reset()\n",
        "\n",
        "    def _reset(self, new_base_lr=None, new_max_lr=None,\n",
        "               new_step_size=None):\n",
        "        \"\"\"Resets cycle iterations.\n",
        "        Optional boundary/step size adjustment.\n",
        "        \"\"\"\n",
        "        if new_base_lr != None:\n",
        "            self.base_lr = new_base_lr\n",
        "        if new_max_lr != None:\n",
        "            self.max_lr = new_max_lr\n",
        "        if new_step_size != None:\n",
        "            self.step_size = new_step_size\n",
        "        self.clr_iterations = 0.\n",
        "\n",
        "    def clr(self):\n",
        "        cycle = np.floor(1+self.clr_iterations/(2*self.step_size))\n",
        "        x = np.abs(self.clr_iterations/self.step_size - 2*cycle + 1)\n",
        "        if self.scale_mode == 'cycle':\n",
        "            return self.base_lr + (self.max_lr-self.base_lr)*np.maximum(0, (1-x))*self.scale_fn(cycle)\n",
        "        else:\n",
        "            return self.base_lr + (self.max_lr-self.base_lr)*np.maximum(0, (1-x))*self.scale_fn(self.clr_iterations)\n",
        "\n",
        "    def on_train_begin(self, logs={}):\n",
        "        logs = logs or {}\n",
        "\n",
        "        if self.clr_iterations == 0:\n",
        "            K.set_value(self.model.optimizer.lr, self.base_lr)\n",
        "        else:\n",
        "            K.set_value(self.model.optimizer.lr, self.clr())\n",
        "\n",
        "    def on_batch_end(self, epoch, logs=None):\n",
        "\n",
        "        logs = logs or {}\n",
        "        self.trn_iterations += 1\n",
        "        self.clr_iterations += 1\n",
        "\n",
        "        self.history.setdefault('lr', []).append(K.get_value(self.model.optimizer.lr))\n",
        "        self.history.setdefault('iterations', []).append(self.trn_iterations)\n",
        "\n",
        "        for k, v in logs.items():\n",
        "            self.history.setdefault(k, []).append(v)\n",
        "\n",
        "        K.set_value(self.model.optimizer.lr, self.clr())"
      ],
      "metadata": {
        "id": "5dQHI_Knhf2c"
      },
      "execution_count": 42,
      "outputs": []
    },
    {
      "cell_type": "code",
      "source": [
        "MIN_LR = 1e-3\n",
        "MAX_LR = 1e-2\n",
        "\n",
        "# otherwise, we have already defined a learning rate space to train over, so compute the step size and initialize the cyclic learning rate method\n",
        "stepSize = STEP_SIZE * (trainX.shape[0] // BATCH_SIZE)\n",
        "clr = CyclicLR(\n",
        "\tmode='triangular',\n",
        "\tbase_lr=MIN_LR,\n",
        "\tmax_lr=MAX_LR,\n",
        "\tstep_size=stepSize)\n",
        "\n",
        "# train the network\n",
        "H = model.fit(\n",
        "\tx=aug.flow(trainX, trainY, batch_size = BATCH_SIZE),\n",
        "\tvalidation_data = (testX, testY),\n",
        "\tsteps_per_epoch = trainX.shape[0] // BATCH_SIZE,\n",
        "\tepochs = NUM_EPOCHS,\n",
        "\tcallbacks=[clr],\n",
        "\tverbose=1)\n",
        "\n",
        "# evaluate the network and show a classification report\n",
        "print(\"[INFO] evaluating network...\")\n",
        "predictions = model.predict(x = testX, batch_size = BATCH_SIZE)\n",
        "print(classification_report(testY.argmax(axis = 1),\n",
        "\tpredictions.argmax(axis=1), target_names = CLASSES))"
      ],
      "metadata": {
        "colab": {
          "base_uri": "https://localhost:8080/"
        },
        "id": "le9OYhCPhf8p",
        "outputId": "db054839-5d13-41f0-f6fb-211ab9eba9d2"
      },
      "execution_count": 43,
      "outputs": [
        {
          "output_type": "stream",
          "name": "stdout",
          "text": [
            "Epoch 1/5\n",
            "937/937 [==============================] - 54s 58ms/step - loss: 2.4427 - accuracy: 0.2111 - val_loss: 1.6665 - val_accuracy: 0.3406\n",
            "Epoch 2/5\n",
            "937/937 [==============================] - 50s 54ms/step - loss: 1.2248 - accuracy: 0.5611 - val_loss: 0.9534 - val_accuracy: 0.6299\n",
            "Epoch 3/5\n",
            "937/937 [==============================] - 52s 56ms/step - loss: 0.9164 - accuracy: 0.6574 - val_loss: 0.7938 - val_accuracy: 0.6945\n",
            "Epoch 4/5\n",
            "937/937 [==============================] - 51s 54ms/step - loss: 0.8382 - accuracy: 0.6821 - val_loss: 0.6853 - val_accuracy: 0.7357\n",
            "Epoch 5/5\n",
            "937/937 [==============================] - 51s 54ms/step - loss: 0.7600 - accuracy: 0.7118 - val_loss: 0.6691 - val_accuracy: 0.7591\n",
            "[INFO] evaluating network...\n",
            "157/157 [==============================] - 3s 19ms/step\n",
            "              precision    recall  f1-score   support\n",
            "\n",
            "         top       0.76      0.76      0.76      1000\n",
            "     trouser       0.99      0.95      0.97      1000\n",
            "    pullover       0.46      0.78      0.58      1000\n",
            "       dress       0.77      0.75      0.76      1000\n",
            "        coat       0.62      0.43      0.51      1000\n",
            "      sandal       0.95      0.87      0.91      1000\n",
            "       shirt       0.41      0.26      0.32      1000\n",
            "     sneaker       0.86      0.91      0.88      1000\n",
            "         bag       0.91      0.96      0.93      1000\n",
            "  ankle boot       0.90      0.93      0.92      1000\n",
            "\n",
            "    accuracy                           0.76     10000\n",
            "   macro avg       0.76      0.76      0.75     10000\n",
            "weighted avg       0.76      0.76      0.75     10000\n",
            "\n"
          ]
        }
      ]
    },
    {
      "cell_type": "code",
      "source": [
        "# construct a plot that plots and saves the training history\n",
        "N = np.arange(0, NUM_EPOCHS)\n",
        "plt.style.use(\"ggplot\")\n",
        "plt.figure()\n",
        "plt.plot(N, H.history[\"loss\"], label=\"train_loss\")\n",
        "plt.plot(N, H.history[\"val_loss\"], label=\"val_loss\")\n",
        "plt.plot(N, H.history[\"accuracy\"], label=\"train_acc\")\n",
        "plt.plot(N, H.history[\"val_accuracy\"], label=\"val_acc\")\n",
        "plt.title(\"Training Loss and Accuracy\")\n",
        "plt.xlabel(\"Epoch #\")\n",
        "plt.ylabel(\"Loss/Accuracy\")\n",
        "plt.legend(loc=\"lower left\")"
      ],
      "metadata": {
        "colab": {
          "base_uri": "https://localhost:8080/",
          "height": 494
        },
        "id": "MRW2nonB3791",
        "outputId": "fbf587c6-1673-4e91-efbb-23d134ed98a2"
      },
      "execution_count": 46,
      "outputs": [
        {
          "output_type": "execute_result",
          "data": {
            "text/plain": [
              "<matplotlib.legend.Legend at 0x7e3a2604ed40>"
            ]
          },
          "metadata": {},
          "execution_count": 46
        },
        {
          "output_type": "display_data",
          "data": {
            "text/plain": [
              "<Figure size 640x480 with 1 Axes>"
            ],
            "image/png": "[encoded data removed]"
          },
          "metadata": {}
        }
      ]
    },
    {
      "cell_type": "markdown",
      "metadata": {
        "id": "RdaMp6ZBf_DF"
      },
      "source": [
        "**Answer:**\n",
        "- As the epochs increase, both the training and validation losses decrease, indicating an improvement in the model's performance.\n",
        "- However, after a certain point, the validation loss starts to plateau, hinting at potential overfitting.\n",
        "- The accuracies of both training and validation sets improve, but the growing gap between them further supports the concept of overfitting."
      ]
    },
    {
      "cell_type": "markdown",
      "metadata": {
        "id": "-sZ0MxIQ_Xs5"
      },
      "source": [
        "## 5.3"
      ]
    },
    {
      "cell_type": "code",
      "execution_count": 59,
      "metadata": {
        "colab": {
          "base_uri": "https://localhost:8080/",
          "height": 1000
        },
        "id": "vwZ7T3tY_Xs6",
        "outputId": "31dc794c-827f-41f7-81c9-4f2f91c3c8d1"
      },
      "outputs": [
        {
          "output_type": "stream",
          "name": "stdout",
          "text": [
            "Epoch 1/5\n",
            "1875/1875 [==============================] - 58s 30ms/step - loss: 0.7745 - accuracy: 0.7036 - val_loss: 0.5982 - val_accuracy: 0.7658\n",
            "Epoch 2/5\n",
            "1875/1875 [==============================] - 56s 30ms/step - loss: 0.5435 - accuracy: 0.7931 - val_loss: 0.4812 - val_accuracy: 0.8161\n",
            "Epoch 3/5\n",
            "1875/1875 [==============================] - 58s 31ms/step - loss: 0.4754 - accuracy: 0.8211 - val_loss: 0.4245 - val_accuracy: 0.8372\n",
            "Epoch 4/5\n",
            "1875/1875 [==============================] - 56s 30ms/step - loss: 0.4410 - accuracy: 0.8333 - val_loss: 0.3892 - val_accuracy: 0.8525\n",
            "Epoch 5/5\n",
            "1875/1875 [==============================] - 55s 29ms/step - loss: 0.4190 - accuracy: 0.8423 - val_loss: 0.3970 - val_accuracy: 0.8437\n",
            "Epoch 1/5\n",
            "937/937 [==============================] - 51s 54ms/step - loss: 0.3727 - accuracy: 0.8595 - val_loss: 0.3635 - val_accuracy: 0.8614\n",
            "Epoch 2/5\n",
            "937/937 [==============================] - 49s 52ms/step - loss: 0.3628 - accuracy: 0.8651 - val_loss: 0.3507 - val_accuracy: 0.8658\n",
            "Epoch 3/5\n",
            "937/937 [==============================] - 49s 53ms/step - loss: 0.3555 - accuracy: 0.8672 - val_loss: 0.3500 - val_accuracy: 0.8686\n",
            "Epoch 4/5\n",
            "937/937 [==============================] - 51s 54ms/step - loss: 0.3486 - accuracy: 0.8689 - val_loss: 0.3319 - val_accuracy: 0.8750\n",
            "Epoch 5/5\n",
            "937/937 [==============================] - 53s 56ms/step - loss: 0.3449 - accuracy: 0.8716 - val_loss: 0.3384 - val_accuracy: 0.8723\n",
            "Epoch 1/5\n",
            "468/468 [==============================] - 46s 99ms/step - loss: 0.3267 - accuracy: 0.8795 - val_loss: 0.3384 - val_accuracy: 0.8680\n",
            "Epoch 2/5\n",
            "468/468 [==============================] - 76s 161ms/step - loss: 0.3214 - accuracy: 0.8806 - val_loss: 0.3224 - val_accuracy: 0.8774\n",
            "Epoch 3/5\n",
            "468/468 [==============================] - 46s 98ms/step - loss: 0.3197 - accuracy: 0.8809 - val_loss: 0.3127 - val_accuracy: 0.8816\n",
            "Epoch 4/5\n",
            "468/468 [==============================] - 48s 102ms/step - loss: 0.3154 - accuracy: 0.8816 - val_loss: 0.3130 - val_accuracy: 0.8807\n",
            "Epoch 5/5\n",
            "468/468 [==============================] - 46s 98ms/step - loss: 0.3152 - accuracy: 0.8820 - val_loss: 0.3097 - val_accuracy: 0.8833\n",
            "Epoch 1/5\n",
            "234/234 [==============================] - 44s 190ms/step - loss: 0.3039 - accuracy: 0.8872 - val_loss: 0.3030 - val_accuracy: 0.8856\n",
            "Epoch 2/5\n",
            "234/234 [==============================] - 44s 186ms/step - loss: 0.3004 - accuracy: 0.8881 - val_loss: 0.3026 - val_accuracy: 0.8847\n",
            "Epoch 3/5\n",
            "234/234 [==============================] - 43s 185ms/step - loss: 0.2996 - accuracy: 0.8882 - val_loss: 0.3066 - val_accuracy: 0.8832\n",
            "Epoch 4/5\n",
            "234/234 [==============================] - 44s 187ms/step - loss: 0.2986 - accuracy: 0.8887 - val_loss: 0.2989 - val_accuracy: 0.8869\n",
            "Epoch 5/5\n",
            "234/234 [==============================] - 43s 184ms/step - loss: 0.2991 - accuracy: 0.8883 - val_loss: 0.2975 - val_accuracy: 0.8889\n",
            "Epoch 1/5\n",
            "117/117 [==============================] - 43s 363ms/step - loss: 0.2931 - accuracy: 0.8911 - val_loss: 0.2981 - val_accuracy: 0.8872\n",
            "Epoch 2/5\n",
            "117/117 [==============================] - 42s 361ms/step - loss: 0.2922 - accuracy: 0.8920 - val_loss: 0.2948 - val_accuracy: 0.8893\n",
            "Epoch 3/5\n",
            "117/117 [==============================] - 42s 362ms/step - loss: 0.2906 - accuracy: 0.8930 - val_loss: 0.2962 - val_accuracy: 0.8880\n",
            "Epoch 4/5\n",
            "117/117 [==============================] - 45s 384ms/step - loss: 0.2906 - accuracy: 0.8925 - val_loss: 0.2927 - val_accuracy: 0.8898\n",
            "Epoch 5/5\n",
            "117/117 [==============================] - 42s 359ms/step - loss: 0.2898 - accuracy: 0.8920 - val_loss: 0.2917 - val_accuracy: 0.8898\n",
            "Epoch 1/5\n",
            "58/58 [==============================] - 41s 707ms/step - loss: 0.2884 - accuracy: 0.8931 - val_loss: 0.2905 - val_accuracy: 0.8915\n",
            "Epoch 2/5\n",
            "58/58 [==============================] - 41s 705ms/step - loss: 0.2866 - accuracy: 0.8942 - val_loss: 0.2895 - val_accuracy: 0.8909\n",
            "Epoch 3/5\n",
            "58/58 [==============================] - 41s 708ms/step - loss: 0.2853 - accuracy: 0.8952 - val_loss: 0.2931 - val_accuracy: 0.8878\n",
            "Epoch 4/5\n",
            "58/58 [==============================] - 43s 736ms/step - loss: 0.2862 - accuracy: 0.8927 - val_loss: 0.2913 - val_accuracy: 0.8907\n",
            "Epoch 5/5\n",
            "58/58 [==============================] - 41s 698ms/step - loss: 0.2838 - accuracy: 0.8951 - val_loss: 0.2904 - val_accuracy: 0.8891\n",
            "Epoch 1/5\n",
            "29/29 [==============================] - 41s 1s/step - loss: 0.2826 - accuracy: 0.8946 - val_loss: 0.2887 - val_accuracy: 0.8909\n",
            "Epoch 2/5\n",
            "29/29 [==============================] - 41s 1s/step - loss: 0.2839 - accuracy: 0.8938 - val_loss: 0.2903 - val_accuracy: 0.8893\n",
            "Epoch 3/5\n",
            "29/29 [==============================] - 40s 1s/step - loss: 0.2826 - accuracy: 0.8944 - val_loss: 0.2897 - val_accuracy: 0.8894\n",
            "Epoch 4/5\n",
            "29/29 [==============================] - 41s 1s/step - loss: 0.2832 - accuracy: 0.8948 - val_loss: 0.2898 - val_accuracy: 0.8899\n",
            "Epoch 5/5\n",
            "29/29 [==============================] - 41s 1s/step - loss: 0.2848 - accuracy: 0.8953 - val_loss: 0.2877 - val_accuracy: 0.8906\n",
            "Epoch 1/5\n",
            "14/14 [==============================] - 41s 3s/step - loss: 0.2850 - accuracy: 0.8944 - val_loss: 0.2888 - val_accuracy: 0.8898\n",
            "Epoch 2/5\n",
            "14/14 [==============================] - 40s 3s/step - loss: 0.2823 - accuracy: 0.8947 - val_loss: 0.2888 - val_accuracy: 0.8905\n",
            "Epoch 3/5\n",
            "14/14 [==============================] - 40s 3s/step - loss: 0.2833 - accuracy: 0.8949 - val_loss: 0.2887 - val_accuracy: 0.8907\n",
            "Epoch 4/5\n",
            "14/14 [==============================] - 42s 3s/step - loss: 0.2824 - accuracy: 0.8939 - val_loss: 0.2880 - val_accuracy: 0.8907\n",
            "Epoch 5/5\n",
            "14/14 [==============================] - 40s 3s/step - loss: 0.2824 - accuracy: 0.8943 - val_loss: 0.2881 - val_accuracy: 0.8910\n"
          ]
        },
        {
          "output_type": "display_data",
          "data": {
            "text/plain": [
              "<Figure size 640x480 with 1 Axes>"
            ],
            "image/png": "[encoded data removed]"
          },
          "metadata": {}
        }
      ],
      "source": [
        "import numpy as np\n",
        "import matplotlib.pyplot as plt\n",
        "import keras\n",
        "\n",
        "# Given variables\n",
        "batch_sizes = [2**i for i in range(5, 13)]  # [32, 64, 128, ..., 4096]\n",
        "losses = []\n",
        "\n",
        "model = create_lenet_model()\n",
        "model.compile(optimizer=keras.optimizers.SGD(learning_rate=MAX_LR, momentum=0.9),\n",
        "                  loss='categorical_crossentropy',\n",
        "                  metrics=['accuracy'])\n",
        "\n",
        "for batch_size in batch_sizes:\n",
        "    history = model.fit(x=aug.flow(trainX, trainY, batch_size=batch_size), validation_data=(testX, testY), steps_per_epoch=trainX.shape[0]//batch_size, epochs=5)\n",
        "    losses.append(history.history['loss'][-1])\n",
        "\n",
        "# Plotting\n",
        "plt.plot(np.log2(batch_sizes), losses)\n",
        "plt.xlabel('log2(batch size)')\n",
        "plt.ylabel('Training Loss')\n",
        "plt.title('Training Loss vs. log2(batch size)')\n",
        "plt.grid(True)\n",
        "plt.show()"
      ]
    },
    {
      "cell_type": "markdown",
      "metadata": {
        "id": "BHyV8Myo_Xs6"
      },
      "source": [
        "**Answer:**\n",
        "\n",
        "- The graph depicts a clear trend of decreasing training loss as the log2(batch size) increases, indicating that as the batch size increases, the model's error on the training data reduces.\n",
        "- The reduction in training loss appears relatively smooth. This could suggest that the increase in batch size consistently benefits the training phase, leading to a steady decline in the training error.\n",
        "- As batch size increases, more samples are used to compute the gradient in each update. This often results in a more stable gradient estimate and less noise, which might explain the decline in training loss. However simultaneously, using very large batch sizes might lead to overfitting as the model might start to memorize the training data over time.\n",
        "\n",
        "**Comparison with Cyclical Learning Rate Policy:**\n",
        "- The cyclical learning rate policy: adjusts the learning rate during training, which balances exploration and exploitation. This therefore helps in preventing the model from getting stuck in local minima and ensures an overall smoother convergence.\n",
        "- In contrast, increasing the batch size while keeping the learning rate fixed focuses on the stability that comes with batch size increase.\n",
        "- As seen in the graph, the training loss decreases as the batch size increases. This inverse relationship for this particular model and dataset means that an increase in batch size is indeed beneficial for reducing the training error."
      ]
    }
  ],
  "metadata": {
    "colab": {
      "provenance": []
    },
    "kernelspec": {
      "display_name": "Python 3",
      "name": "python3"
    },
    "language_info": {
      "name": "python"
    }
  },
  "nbformat": 4,
  "nbformat_minor": 0
}